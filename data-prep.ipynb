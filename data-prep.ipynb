{
 "cells": [
  {
   "cell_type": "code",
   "execution_count": 3,
   "metadata": {},
   "outputs": [
    {
     "name": "stdout",
     "output_type": "stream",
     "text": [
      "[['I did a sponsored walk once. ', 'In the end, I’d managed to raise so much money, I could afford a taxi.'], ['When you eat a lot of spicy food, you can lose your taste. ', 'When I was in India last summer, I was listening to a lot of Michael Bolton.'], ['I had a survey done on my house. ', 'Eight out of 10 people said they really rather liked it.'], [\"My favourite road sign is 'Falling Rocks’. What exactly am I supposed to do with that information? \", \"They may as well have a sign saying, 'Random accidents ahead’\"], ['I realised I was dyslexic ', 'When I went to a toga party dressed as a goat.'], [\"I was out with a friend and he came over with a pair of girls. I said to him, 'They’re like buses.’ He said, 'What? Because you wait for ages and then two come along at once.’ I said, \", \"'No, they are like buses!'\"], ['I’m not being condescending. ', 'I’m too busy thinking about far more important things you wouldn’t understand.'], ['When I was a kid, I used to have an imaginary friend. I thought he went everywhere with me. I could talk to him and he could hear me, and he could grant me wishes and stuff too. ', 'But then I grew up, and stopped going to church.'], ['Swimming is good for you, especially if you’re drowning. Not only do you get a cardiovascular workout,', 'but you also don’t die.'], ['Recently my girlfriend asked me if I was having sex behind her back and I replied, ', \"'Yes, who did you think it was?'\"], [\"I saw a charity appeal in The Guardian the other day, and it read, 'Little Zuki has to walk 13 miles a day just to fetch water.’ And I couldn’t help thinking, \", \"'she should move.'\"], ['I used to buy lottery tickets every week ', 'until I realised you could watch it on TV for nothing.'], ['I like to go into The Body Shop and shout out really loud, ', \"'I’ve already got one!'\"], ['Saying that you don’t believe in magic but do believe in God is a bit like saying ', 'you don’t have sex with dogs, except Labradors.'], ['I did a gig in the US once for the homeless. I said, ', \"'It’s nice to see so many bums on seats.'\"], ['Say what you want ', 'about the deaf…'], ['No matter how much you give a homeless person for tea, ', 'you never get that tea.'], ['Remember to never answer a phone during sex, even if you hilariously answer with, ', \"'I can’t talk now, I’m going into a tunnel.'\"], ['People with Tourette’s… ', 'what makes them tick?'], [\"Viagra has instructions: 'Keep away from children’.\", 'what kind of man do you think I am?'], [\"I was walking the streets of Glasgow the other week and I saw this sign, 'This door is alarmed’. I said to myself, \", \"'How do you think I feel?'\"], ['I’m not worried about the Third World War. ', 'That’s the Third World’s problem.'], ['I have no problems with buying tampons, I am a fairly modern man. ', \"But apparently they’re not a 'proper’ present.\"], [\"There was one time where I failed to perform sexually. My girlfriend said to me, 'oh, don’t worry, it happens to a lot of guys.’ OK, there are two things wrong with that.\", 'First of all who are these other guys? And second of all if it’s happening to more than one of us, don’t you think it could be your fault?'], ['The first few weeks of Weight Watchers, ', 'you’re just finding your feet.'], [\"My father always used to say, 'What doesn’t kill you, makes you stronger.’ \", 'Until the accident.'], ['In Pizza Express you can get garlic bread with cheese and tomato. ', 'Now correct me if I’m wrong, but that’s a pizza.'], ['My girlfriend bought a cookbook the other day called Cheap and Easy Vegetarian Cooking.', 'Which is perfect for her, because not only is she vegetarian…'], ['I went up to the airport information desk and said ', \"'How many airports are there in the world?'\"], ['My girlfriend said she wanted me to tease her, so I said, ', \"'Alright, fatty.'\"], [\"A big girl once came up to me after a show and said 'I think you’re fatist’. I said, \", \"'no, I think you’re fattest.'\"], ['Throwing acid is wrong. ', 'In some people’s eyes.'], [\"A lady with a clipboard stopped me in the street and said 'Can you spare a few minutes for cancer research?’ I said, \", \"'alright, but we’re not going to get much done.'\"], ['When someone close to you dies,', 'move seats.'], ['British scientists have demonstrated that cigarettes can harm your children.', 'Fair enough. Use an ashtray.'], [\"I live near a remedial school. There’s a sign that says, 'slow – children’. That can’t be good for their self esteem.But look of course on the positive side… \", 'they can’t read it.'], ['I saw that show 50 Things To Do Before You Die. ', \"I’d have thought the obvious one was, 'shout for help.'\"], ['If we are all God’s children, ', 'what’s so special about Jesus?'], ['The American police have said they will never forget 9/11. ', 'Pretty hard to, I would think, considering it’s your phone number.'], ['Ten years after the Chernobyl accident, and am I the only one that’s disappointed? ', 'Still no superheroes.'], ['Boxers don’t have sex before a fight. Do you know why that is? ', 'They don’t fancy each other.'], ['My Dad’s dying wish was to have his family around him. ', 'I can’t help thinking he would have been better off with more oxygen.'], ['David Cameron says he’ll put a cap on immigrants coming into the UK. That’s wrong. ', 'Immigrants should be allowed to wear what they like.'], ['The reason old men use Viagra is not that they are impotent. ', 'It’s that old women are so very ugly.'], ['I’m not sure if you’re aware of this, but if you took all the money that we in the West spend on food in one week, you could feed the Third World for a year. ', 'I’m not sure about you, but I think we’re being overcharged on groceries.'], ['I hate those e-mails where they try to sell you penis enhancers. I got ten just the other day. Eight of them from my girlfriend. ', 'It’s the two from my Mum that really hurt.'], ['I remember what I was doing the first time I told someone I loved them. ', 'I was lying to get sex.'], [\"I said to my girlfriend, you shouldn’t eat before you swim. She said, 'why not?’ I said, \", \"'you look fat.'\"], ['I worry about my Nan. ', 'If she’s alone and she falls, does she make a sound?'], [\"My Mum told me the best time to ask my Dad for anything was during sex. Not the best advice I’d ever been given. I burst in through the bedroom door saying, 'Can I have a new bike?’ He was very upset. \", 'His secretary was surprisingly nice about it. I got the bike.']]\n"
     ]
    }
   ],
   "source": [
    "pairs = []\n",
    "data = []\n",
    "\n",
    "# Read the text file\n",
    "with open(\"./jimmy-car-jokes.txt\", \"r\") as file:\n",
    "    data = file.read().strip()\n",
    "\n",
    "# Split the text into pairs based on the blank lines\n",
    "pair_texts = data.split(\"\\n\\n\")\n",
    "for pair_text in pair_texts:\n",
    "    pair = pair_text.split(\"\\n\")\n",
    "    pairs.append(pair)\n",
    "\n",
    "\n",
    "# Print the resulting array\n",
    "print(pairs)"
   ]
  }
 ],
 "metadata": {
  "kernelspec": {
   "display_name": "sklearn-env",
   "language": "python",
   "name": "python3"
  },
  "language_info": {
   "codemirror_mode": {
    "name": "ipython",
    "version": 3
   },
   "file_extension": ".py",
   "mimetype": "text/x-python",
   "name": "python",
   "nbconvert_exporter": "python",
   "pygments_lexer": "ipython3",
   "version": "3.12.2"
  }
 },
 "nbformat": 4,
 "nbformat_minor": 2
}
